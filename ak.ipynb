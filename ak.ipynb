{
 "cells": [
  {
   "cell_type": "code",
   "execution_count": 1,
   "id": "8fc4c859",
   "metadata": {
    "ExecuteTime": {
     "end_time": "2024-01-08T12:00:44.337599Z",
     "start_time": "2024-01-08T12:00:41.851258Z"
    }
   },
   "outputs": [
    {
     "ename": "ModuleNotFoundError",
     "evalue": "No module named 'autokeras'",
     "output_type": "error",
     "traceback": [
      "\u001b[0;31m---------------------------------------------------------------------------\u001b[0m",
      "\u001b[0;31mModuleNotFoundError\u001b[0m                       Traceback (most recent call last)",
      "Cell \u001b[0;32mIn[1], line 7\u001b[0m\n\u001b[1;32m      4\u001b[0m \u001b[38;5;28;01mimport\u001b[39;00m \u001b[38;5;21;01mnumpy\u001b[39;00m \u001b[38;5;28;01mas\u001b[39;00m \u001b[38;5;21;01mnp\u001b[39;00m\n\u001b[1;32m      5\u001b[0m \u001b[38;5;28;01mimport\u001b[39;00m \u001b[38;5;21;01mtensorflow\u001b[39;00m \u001b[38;5;28;01mas\u001b[39;00m \u001b[38;5;21;01mtf\u001b[39;00m\n\u001b[0;32m----> 7\u001b[0m \u001b[38;5;28;01mimport\u001b[39;00m \u001b[38;5;21;01mautokeras\u001b[39;00m \u001b[38;5;28;01mas\u001b[39;00m \u001b[38;5;21;01mak\u001b[39;00m\n",
      "\u001b[0;31mModuleNotFoundError\u001b[0m: No module named 'autokeras'"
     ]
    }
   ],
   "source": [
    "import os\n",
    "import shutil \n",
    "\n",
    "import numpy as np\n",
    "import tensorflow as tf\n",
    "\n",
    "import autokeras as ak"
   ]
  },
  {
   "cell_type": "code",
   "execution_count": 2,
   "id": "0b2e00ce",
   "metadata": {},
   "outputs": [],
   "source": [
    "import os\n",
    "import numpy as np\n",
    "import pandas as pd\n",
    "from tensorflow.keras.preprocessing.image import ImageDataGenerator\n",
    "from sklearn.model_selection import train_test_split\n",
    "from tensorflow.keras.utils import to_categorical\n",
    "import tensorflow as tf\n",
    "\n",
    "import os\n",
    "import numpy as np\n",
    "from PIL import Image\n",
    "from sklearn.model_selection import train_test_split\n",
    "\n",
    "from tensorflow.keras.models import Sequential\n",
    "from tensorflow.keras.layers import Conv2D, MaxPooling2D, Flatten, Dense, Dropout\n",
    "from sklearn.model_selection import KFold\n",
    "from sklearn.metrics import accuracy_score, precision_score, recall_score, f1_score, confusion_matrix"
   ]
  },
  {
   "cell_type": "code",
   "execution_count": 3,
   "id": "0c23523a",
   "metadata": {},
   "outputs": [],
   "source": [
    "train_dir = 'imgs/train'\n",
    "test_dir = 'imgs/test'\n",
    "csv_file = 'driver_imgs_list.csv'"
   ]
  },
  {
   "cell_type": "code",
   "execution_count": 4,
   "id": "45d5d804",
   "metadata": {},
   "outputs": [],
   "source": [
    "def load_images_from_folder(base_folder, size=(112, 112)):\n",
    "    total_images = sum([len(files) for r, d, files in os.walk(base_folder)])\n",
    "\n",
    "    all_images = np.empty((total_images, size[0], size[1], 3), dtype=np.uint8)\n",
    "    all_labels = np.empty(total_images, dtype=np.uint8)\n",
    "\n",
    "    idx = 0\n",
    "    for folder in os.listdir(base_folder):\n",
    "        folder_path = os.path.join(base_folder, folder)\n",
    "        \n",
    "        if os.path.isdir(folder_path):\n",
    "            for filename in os.listdir(folder_path):\n",
    "                img_path = os.path.join(folder_path, filename)\n",
    "                \n",
    "                try:\n",
    "                    img = Image.open(img_path).resize(size)\n",
    "                    all_images[idx] = np.array(img)\n",
    "                    all_labels[idx] = folder[-1]\n",
    "                    idx += 1\n",
    "                except IOError:\n",
    "                    print(f\"Error in reading {img_path}. Skipping.\")\n",
    "\n",
    "    return all_images, all_labels\n"
   ]
  },
  {
   "cell_type": "code",
   "execution_count": 5,
   "id": "a1819476",
   "metadata": {},
   "outputs": [],
   "source": [
    "base_folder = 'imgs/train'\n",
    "images, labels = load_images_from_folder(base_folder)"
   ]
  },
  {
   "cell_type": "code",
   "execution_count": 6,
   "id": "339a63cc",
   "metadata": {},
   "outputs": [
    {
     "data": {
      "text/plain": [
       "(22424, 112, 112, 3)"
      ]
     },
     "execution_count": 6,
     "metadata": {},
     "output_type": "execute_result"
    }
   ],
   "source": [
    "images.shape"
   ]
  },
  {
   "cell_type": "code",
   "execution_count": 7,
   "id": "7bc45f84",
   "metadata": {},
   "outputs": [
    {
     "data": {
      "text/plain": [
       "array([2, 2, 2, ..., 4, 4, 4], dtype=uint8)"
      ]
     },
     "execution_count": 7,
     "metadata": {},
     "output_type": "execute_result"
    }
   ],
   "source": [
    "labels"
   ]
  },
  {
   "cell_type": "code",
   "execution_count": 8,
   "id": "215b0be8",
   "metadata": {},
   "outputs": [],
   "source": [
    "X = images.astype('float32') / 255"
   ]
  },
  {
   "cell_type": "code",
   "execution_count": 9,
   "id": "a1bf839a",
   "metadata": {},
   "outputs": [
    {
     "data": {
      "text/plain": [
       "(22424, 112, 112, 3)"
      ]
     },
     "execution_count": 9,
     "metadata": {},
     "output_type": "execute_result"
    }
   ],
   "source": [
    "X.shape"
   ]
  },
  {
   "cell_type": "code",
   "execution_count": 10,
   "id": "5ea94f69",
   "metadata": {},
   "outputs": [],
   "source": [
    "Y = to_categorical(labels, 10)"
   ]
  },
  {
   "cell_type": "code",
   "execution_count": 11,
   "id": "90b7dbb6",
   "metadata": {},
   "outputs": [],
   "source": [
    "X_train, X_test, y_train, y_test = train_test_split(X, Y, test_size=0.2, random_state=42)"
   ]
  },
  {
   "cell_type": "code",
   "execution_count": 12,
   "id": "1218b723",
   "metadata": {},
   "outputs": [
    {
     "data": {
      "text/plain": [
       "((17939, 112, 112, 3), (4485, 112, 112, 3))"
      ]
     },
     "execution_count": 12,
     "metadata": {},
     "output_type": "execute_result"
    }
   ],
   "source": [
    "X_train.shape, X_test.shape"
   ]
  },
  {
   "cell_type": "code",
   "execution_count": 13,
   "id": "aa525d0a",
   "metadata": {},
   "outputs": [
    {
     "data": {
      "text/plain": [
       "((17939, 10), (4485, 10))"
      ]
     },
     "execution_count": 13,
     "metadata": {},
     "output_type": "execute_result"
    }
   ],
   "source": [
    "y_train.shape, y_test.shape"
   ]
  },
  {
   "cell_type": "code",
   "execution_count": 14,
   "id": "fa41894d-be9c-46b6-a5c3-2762ce5a264a",
   "metadata": {},
   "outputs": [
    {
     "name": "stderr",
     "output_type": "stream",
     "text": [
      "2023-12-17 22:07:32.239373: I tensorflow/compiler/xla/stream_executor/cuda/cuda_gpu_executor.cc:894] successful NUMA node read from SysFS had negative value (-1), but there must be at least one NUMA node, so returning NUMA node zero. See more at https://github.com/torvalds/linux/blob/v6.0/Documentation/ABI/testing/sysfs-bus-pci#L344-L355\n",
      "2023-12-17 22:07:32.239463: I tensorflow/compiler/xla/stream_executor/cuda/cuda_gpu_executor.cc:894] successful NUMA node read from SysFS had negative value (-1), but there must be at least one NUMA node, so returning NUMA node zero. See more at https://github.com/torvalds/linux/blob/v6.0/Documentation/ABI/testing/sysfs-bus-pci#L344-L355\n",
      "2023-12-17 22:07:32.260493: I tensorflow/compiler/xla/stream_executor/cuda/cuda_gpu_executor.cc:894] successful NUMA node read from SysFS had negative value (-1), but there must be at least one NUMA node, so returning NUMA node zero. See more at https://github.com/torvalds/linux/blob/v6.0/Documentation/ABI/testing/sysfs-bus-pci#L344-L355\n",
      "2023-12-17 22:07:32.260588: I tensorflow/compiler/xla/stream_executor/cuda/cuda_gpu_executor.cc:894] successful NUMA node read from SysFS had negative value (-1), but there must be at least one NUMA node, so returning NUMA node zero. See more at https://github.com/torvalds/linux/blob/v6.0/Documentation/ABI/testing/sysfs-bus-pci#L344-L355\n",
      "2023-12-17 22:07:32.260648: I tensorflow/compiler/xla/stream_executor/cuda/cuda_gpu_executor.cc:894] successful NUMA node read from SysFS had negative value (-1), but there must be at least one NUMA node, so returning NUMA node zero. See more at https://github.com/torvalds/linux/blob/v6.0/Documentation/ABI/testing/sysfs-bus-pci#L344-L355\n",
      "2023-12-17 22:07:32.260701: I tensorflow/compiler/xla/stream_executor/cuda/cuda_gpu_executor.cc:894] successful NUMA node read from SysFS had negative value (-1), but there must be at least one NUMA node, so returning NUMA node zero. See more at https://github.com/torvalds/linux/blob/v6.0/Documentation/ABI/testing/sysfs-bus-pci#L344-L355\n",
      "2023-12-17 22:07:32.356018: I tensorflow/compiler/xla/stream_executor/cuda/cuda_gpu_executor.cc:894] successful NUMA node read from SysFS had negative value (-1), but there must be at least one NUMA node, so returning NUMA node zero. See more at https://github.com/torvalds/linux/blob/v6.0/Documentation/ABI/testing/sysfs-bus-pci#L344-L355\n",
      "2023-12-17 22:07:32.356104: I tensorflow/compiler/xla/stream_executor/cuda/cuda_gpu_executor.cc:894] successful NUMA node read from SysFS had negative value (-1), but there must be at least one NUMA node, so returning NUMA node zero. See more at https://github.com/torvalds/linux/blob/v6.0/Documentation/ABI/testing/sysfs-bus-pci#L344-L355\n",
      "2023-12-17 22:07:32.356166: I tensorflow/compiler/xla/stream_executor/cuda/cuda_gpu_executor.cc:894] successful NUMA node read from SysFS had negative value (-1), but there must be at least one NUMA node, so returning NUMA node zero. See more at https://github.com/torvalds/linux/blob/v6.0/Documentation/ABI/testing/sysfs-bus-pci#L344-L355\n",
      "2023-12-17 22:07:32.356213: I tensorflow/compiler/xla/stream_executor/cuda/cuda_gpu_executor.cc:894] successful NUMA node read from SysFS had negative value (-1), but there must be at least one NUMA node, so returning NUMA node zero. See more at https://github.com/torvalds/linux/blob/v6.0/Documentation/ABI/testing/sysfs-bus-pci#L344-L355\n",
      "2023-12-17 22:07:32.356256: I tensorflow/compiler/xla/stream_executor/cuda/cuda_gpu_executor.cc:894] successful NUMA node read from SysFS had negative value (-1), but there must be at least one NUMA node, so returning NUMA node zero. See more at https://github.com/torvalds/linux/blob/v6.0/Documentation/ABI/testing/sysfs-bus-pci#L344-L355\n",
      "2023-12-17 22:07:32.356300: I tensorflow/compiler/xla/stream_executor/cuda/cuda_gpu_executor.cc:894] successful NUMA node read from SysFS had negative value (-1), but there must be at least one NUMA node, so returning NUMA node zero. See more at https://github.com/torvalds/linux/blob/v6.0/Documentation/ABI/testing/sysfs-bus-pci#L344-L355\n",
      "2023-12-17 22:07:32.361654: I tensorflow/compiler/xla/stream_executor/cuda/cuda_gpu_executor.cc:894] successful NUMA node read from SysFS had negative value (-1), but there must be at least one NUMA node, so returning NUMA node zero. See more at https://github.com/torvalds/linux/blob/v6.0/Documentation/ABI/testing/sysfs-bus-pci#L344-L355\n",
      "2023-12-17 22:07:32.361732: I tensorflow/compiler/xla/stream_executor/cuda/cuda_gpu_executor.cc:894] successful NUMA node read from SysFS had negative value (-1), but there must be at least one NUMA node, so returning NUMA node zero. See more at https://github.com/torvalds/linux/blob/v6.0/Documentation/ABI/testing/sysfs-bus-pci#L344-L355\n",
      "2023-12-17 22:07:32.361783: I tensorflow/compiler/xla/stream_executor/cuda/cuda_gpu_executor.cc:894] successful NUMA node read from SysFS had negative value (-1), but there must be at least one NUMA node, so returning NUMA node zero. See more at https://github.com/torvalds/linux/blob/v6.0/Documentation/ABI/testing/sysfs-bus-pci#L344-L355\n",
      "2023-12-17 22:07:32.361830: I tensorflow/compiler/xla/stream_executor/cuda/cuda_gpu_executor.cc:894] successful NUMA node read from SysFS had negative value (-1), but there must be at least one NUMA node, so returning NUMA node zero. See more at https://github.com/torvalds/linux/blob/v6.0/Documentation/ABI/testing/sysfs-bus-pci#L344-L355\n",
      "2023-12-17 22:07:32.361879: I tensorflow/compiler/xla/stream_executor/cuda/cuda_gpu_executor.cc:894] successful NUMA node read from SysFS had negative value (-1), but there must be at least one NUMA node, so returning NUMA node zero. See more at https://github.com/torvalds/linux/blob/v6.0/Documentation/ABI/testing/sysfs-bus-pci#L344-L355\n",
      "2023-12-17 22:07:32.361929: I tensorflow/core/common_runtime/gpu/gpu_device.cc:1886] Created device /job:localhost/replica:0/task:0/device:GPU:0 with 14215 MB memory:  -> device: 0, name: NVIDIA GeForce RTX 4080, pci bus id: 0000:01:00.0, compute capability: 8.9\n",
      "2023-12-17 22:07:32.362114: I tensorflow/compiler/xla/stream_executor/cuda/cuda_gpu_executor.cc:894] successful NUMA node read from SysFS had negative value (-1), but there must be at least one NUMA node, so returning NUMA node zero. See more at https://github.com/torvalds/linux/blob/v6.0/Documentation/ABI/testing/sysfs-bus-pci#L344-L355\n",
      "2023-12-17 22:07:32.362158: I tensorflow/core/common_runtime/gpu/gpu_device.cc:1886] Created device /job:localhost/replica:0/task:0/device:GPU:1 with 14290 MB memory:  -> device: 1, name: NVIDIA GeForce RTX 4080, pci bus id: 0000:05:00.0, compute capability: 8.9\n"
     ]
    }
   ],
   "source": [
    "model = Sequential([\n",
    "        Conv2D(32, (3, 3), activation='relu', input_shape=(112, 112, 3)),\n",
    "        MaxPooling2D(2, 2),\n",
    "        Flatten(),\n",
    "        #Dense(128, activation='relu'),\n",
    "        Dense(10, activation='softmax')\n",
    "])\n",
    "model.compile(optimizer='adam', loss='categorical_crossentropy', metrics=['accuracy'])"
   ]
  },
  {
   "cell_type": "code",
   "execution_count": 15,
   "id": "5c4a712f-c304-42bc-ad26-79c3196846d7",
   "metadata": {},
   "outputs": [
    {
     "name": "stdout",
     "output_type": "stream",
     "text": [
      "Model: \"sequential\"\n",
      "_________________________________________________________________\n",
      " Layer (type)                Output Shape              Param #   \n",
      "=================================================================\n",
      " conv2d (Conv2D)             (None, 110, 110, 32)      896       \n",
      "                                                                 \n",
      " max_pooling2d (MaxPooling2  (None, 55, 55, 32)        0         \n",
      " D)                                                              \n",
      "                                                                 \n",
      " flatten (Flatten)           (None, 96800)             0         \n",
      "                                                                 \n",
      " dense (Dense)               (None, 10)                968010    \n",
      "                                                                 \n",
      "=================================================================\n",
      "Total params: 968906 (3.70 MB)\n",
      "Trainable params: 968906 (3.70 MB)\n",
      "Non-trainable params: 0 (0.00 Byte)\n",
      "_________________________________________________________________\n"
     ]
    }
   ],
   "source": [
    "model.summary()"
   ]
  },
  {
   "cell_type": "code",
   "execution_count": 16,
   "id": "a9c40589-c102-45aa-b3f3-6d7383cfcb34",
   "metadata": {},
   "outputs": [
    {
     "name": "stdout",
     "output_type": "stream",
     "text": [
      "Epoch 1/20\n"
     ]
    },
    {
     "name": "stderr",
     "output_type": "stream",
     "text": [
      "2023-12-17 22:07:38.183168: I tensorflow/compiler/xla/stream_executor/cuda/cuda_dnn.cc:442] Loaded cuDNN version 8902\n",
      "2023-12-17 22:07:38.299873: I tensorflow/compiler/xla/service/service.cc:168] XLA service 0x7f1438043750 initialized for platform CUDA (this does not guarantee that XLA will be used). Devices:\n",
      "2023-12-17 22:07:38.299886: I tensorflow/compiler/xla/service/service.cc:176]   StreamExecutor device (0): NVIDIA GeForce RTX 4080, Compute Capability 8.9\n",
      "2023-12-17 22:07:38.299888: I tensorflow/compiler/xla/service/service.cc:176]   StreamExecutor device (1): NVIDIA GeForce RTX 4080, Compute Capability 8.9\n",
      "2023-12-17 22:07:38.303631: I tensorflow/compiler/mlir/tensorflow/utils/dump_mlir_util.cc:269] disabling MLIR crash reproducer, set env var `MLIR_CRASH_REPRODUCER_DIRECTORY` to enable.\n",
      "2023-12-17 22:07:38.358517: I ./tensorflow/compiler/jit/device_compiler.h:186] Compiled cluster using XLA!  This line is logged at most once for the lifetime of the process.\n"
     ]
    },
    {
     "name": "stdout",
     "output_type": "stream",
     "text": [
      "561/561 [==============================] - 3s 3ms/step - loss: 0.4747 - accuracy: 0.8815 - val_loss: 0.0497 - val_accuracy: 0.9897\n",
      "Epoch 2/20\n",
      "561/561 [==============================] - 1s 3ms/step - loss: 0.0202 - accuracy: 0.9962 - val_loss: 0.0394 - val_accuracy: 0.9882\n",
      "Epoch 3/20\n",
      "561/561 [==============================] - 2s 3ms/step - loss: 0.0088 - accuracy: 0.9982 - val_loss: 0.0234 - val_accuracy: 0.9951\n",
      "Epoch 4/20\n",
      "561/561 [==============================] - 1s 3ms/step - loss: 0.0087 - accuracy: 0.9979 - val_loss: 0.0208 - val_accuracy: 0.9949\n",
      "Epoch 5/20\n",
      "561/561 [==============================] - 1s 3ms/step - loss: 0.0015 - accuracy: 0.9997 - val_loss: 0.0104 - val_accuracy: 0.9964\n",
      "Epoch 6/20\n",
      "561/561 [==============================] - 2s 3ms/step - loss: 1.9311e-04 - accuracy: 1.0000 - val_loss: 0.0101 - val_accuracy: 0.9964\n",
      "Epoch 7/20\n",
      "561/561 [==============================] - 1s 3ms/step - loss: 1.0323e-04 - accuracy: 1.0000 - val_loss: 0.0107 - val_accuracy: 0.9962\n",
      "Epoch 8/20\n",
      "561/561 [==============================] - 1s 3ms/step - loss: 7.1129e-05 - accuracy: 1.0000 - val_loss: 0.0110 - val_accuracy: 0.9964\n",
      "Epoch 9/20\n",
      "561/561 [==============================] - 1s 3ms/step - loss: 5.3572e-05 - accuracy: 1.0000 - val_loss: 0.0106 - val_accuracy: 0.9967\n",
      "Epoch 10/20\n",
      "561/561 [==============================] - 1s 3ms/step - loss: 4.0802e-05 - accuracy: 1.0000 - val_loss: 0.0104 - val_accuracy: 0.9967\n",
      "Epoch 11/20\n",
      "561/561 [==============================] - 1s 3ms/step - loss: 3.1059e-05 - accuracy: 1.0000 - val_loss: 0.0110 - val_accuracy: 0.9962\n",
      "Epoch 12/20\n",
      "561/561 [==============================] - 1s 3ms/step - loss: 2.3979e-05 - accuracy: 1.0000 - val_loss: 0.0111 - val_accuracy: 0.9969\n",
      "Epoch 13/20\n",
      "561/561 [==============================] - 1s 3ms/step - loss: 1.8299e-05 - accuracy: 1.0000 - val_loss: 0.0113 - val_accuracy: 0.9964\n",
      "Epoch 14/20\n",
      "561/561 [==============================] - 1s 3ms/step - loss: 1.4051e-05 - accuracy: 1.0000 - val_loss: 0.0114 - val_accuracy: 0.9969\n",
      "Epoch 15/20\n",
      "561/561 [==============================] - 1s 3ms/step - loss: 1.0582e-05 - accuracy: 1.0000 - val_loss: 0.0114 - val_accuracy: 0.9971\n",
      "Epoch 16/20\n",
      "561/561 [==============================] - 1s 3ms/step - loss: 8.0887e-06 - accuracy: 1.0000 - val_loss: 0.0111 - val_accuracy: 0.9964\n",
      "Epoch 17/20\n",
      "561/561 [==============================] - 1s 3ms/step - loss: 6.1716e-06 - accuracy: 1.0000 - val_loss: 0.0120 - val_accuracy: 0.9967\n",
      "Epoch 18/20\n",
      "561/561 [==============================] - 2s 3ms/step - loss: 4.5957e-06 - accuracy: 1.0000 - val_loss: 0.0118 - val_accuracy: 0.9967\n",
      "Epoch 19/20\n",
      "561/561 [==============================] - 1s 3ms/step - loss: 3.4727e-06 - accuracy: 1.0000 - val_loss: 0.0120 - val_accuracy: 0.9964\n",
      "Epoch 20/20\n",
      "561/561 [==============================] - 1s 3ms/step - loss: 2.6203e-06 - accuracy: 1.0000 - val_loss: 0.0126 - val_accuracy: 0.9967\n"
     ]
    },
    {
     "data": {
      "text/plain": [
       "<keras.src.callbacks.History at 0x7f17f3db2f20>"
      ]
     },
     "execution_count": 16,
     "metadata": {},
     "output_type": "execute_result"
    }
   ],
   "source": [
    "model.fit(X_train, y_train, validation_data=(X_test, y_test), epochs=20)"
   ]
  },
  {
   "cell_type": "code",
   "execution_count": 17,
   "id": "adc83282-52a4-46d8-8601-9ef637b87f96",
   "metadata": {},
   "outputs": [
    {
     "name": "stdout",
     "output_type": "stream",
     "text": [
      "141/141 [==============================] - 0s 2ms/step - loss: 0.0126 - accuracy: 0.9967\n"
     ]
    },
    {
     "data": {
      "text/plain": [
       "[0.012591506354510784, 0.9966555237770081]"
      ]
     },
     "execution_count": 17,
     "metadata": {},
     "output_type": "execute_result"
    }
   ],
   "source": [
    "model.evaluate(X_test, y_test)"
   ]
  },
  {
   "cell_type": "code",
   "execution_count": 18,
   "id": "0d3dcd41-574d-400d-931e-d128c18f57d3",
   "metadata": {},
   "outputs": [],
   "source": [
    "model.save(\"model.keras\")"
   ]
  },
  {
   "cell_type": "code",
   "execution_count": 19,
   "id": "d0d5f6af-6403-480b-a187-d6846e046cf9",
   "metadata": {},
   "outputs": [
    {
     "name": "stdout",
     "output_type": "stream",
     "text": [
      "561/561 [==============================] - 1s 1ms/step\n",
      "141/141 [==============================] - 0s 1ms/step\n"
     ]
    }
   ],
   "source": [
    "y_pred_train = model.predict(X_train)\n",
    "y_pred_test = model.predict(X_test)\n",
    "\n",
    "# Convert predictions from one-hot encoded to class numbers\n",
    "y_pred_train_classes = np.argmax(y_pred_train, axis=1)\n",
    "y_pred_test_classes = np.argmax(y_pred_test, axis=1)\n",
    "\n",
    "# Convert true labels from one-hot encoded to class numbers\n",
    "y_true_train = np.argmax(y_train, axis=1)\n",
    "y_true_test = np.argmax(y_test, axis=1)"
   ]
  },
  {
   "cell_type": "code",
   "execution_count": 21,
   "id": "171619e3-d705-4b89-afc9-fca96435165d",
   "metadata": {},
   "outputs": [
    {
     "name": "stdout",
     "output_type": "stream",
     "text": [
      "              precision    recall  f1-score   support\n",
      "\n",
      "           0       1.00      1.00      1.00      1949\n",
      "           1       1.00      1.00      1.00      1809\n",
      "           2       1.00      1.00      1.00      1888\n",
      "           3       1.00      1.00      1.00      1854\n",
      "           4       1.00      1.00      1.00      1898\n",
      "           5       1.00      1.00      1.00      1836\n",
      "           6       1.00      1.00      1.00      1860\n",
      "           7       1.00      1.00      1.00      1605\n",
      "           8       1.00      1.00      1.00      1543\n",
      "           9       1.00      1.00      1.00      1697\n",
      "\n",
      "    accuracy                           1.00     17939\n",
      "   macro avg       1.00      1.00      1.00     17939\n",
      "weighted avg       1.00      1.00      1.00     17939\n"
     ]
    }
   ],
   "source": [
    "print(classification_report(y_true_train, y_pred_train_classes))"
   ]
  },
  {
   "cell_type": "code",
   "execution_count": 26,
   "id": "7667f71a-e175-4688-8d8f-c1d64f8420af",
   "metadata": {},
   "outputs": [
    {
     "name": "stdout",
     "output_type": "stream",
     "text": [
      "[[1949    0    0    0    0    0    0    0    0    0]\n",
      " [   0 1809    0    0    0    0    0    0    0    0]\n",
      " [   0    0 1888    0    0    0    0    0    0    0]\n",
      " [   0    0    0 1854    0    0    0    0    0    0]\n",
      " [   0    0    0    0 1898    0    0    0    0    0]\n",
      " [   0    0    0    0    0 1836    0    0    0    0]\n",
      " [   0    0    0    0    0    0 1860    0    0    0]\n",
      " [   0    0    0    0    0    0    0 1605    0    0]\n",
      " [   0    0    0    0    0    0    0    0 1543    0]\n",
      " [   0    0    0    0    0    0    0    0    0 1697]]\n"
     ]
    }
   ],
   "source": [
    "print(confusion_matrix(y_true_train, y_pred_train_classes))"
   ]
  },
  {
   "cell_type": "code",
   "execution_count": 27,
   "id": "a2ba3bf3-30db-4ae7-b168-5e9b1ff021e0",
   "metadata": {},
   "outputs": [
    {
     "name": "stdout",
     "output_type": "stream",
     "text": [
      "              precision    recall  f1-score   support\n",
      "\n",
      "           0       0.99      1.00      1.00       540\n",
      "           1       1.00      1.00      1.00       458\n",
      "           2       1.00      1.00      1.00       429\n",
      "           3       1.00      1.00      1.00       492\n",
      "           4       1.00      1.00      1.00       428\n",
      "           5       1.00      0.99      1.00       476\n",
      "           6       1.00      1.00      1.00       465\n",
      "           7       1.00      0.99      1.00       397\n",
      "           8       1.00      1.00      1.00       368\n",
      "           9       1.00      1.00      1.00       432\n",
      "\n",
      "    accuracy                           1.00      4485\n",
      "   macro avg       1.00      1.00      1.00      4485\n",
      "weighted avg       1.00      1.00      1.00      4485\n"
     ]
    }
   ],
   "source": [
    "print(classification_report(y_true_test, y_pred_test_classes))"
   ]
  },
  {
   "cell_type": "code",
   "execution_count": 29,
   "id": "016a313b-d8d4-4a3b-b2d4-d85e1cf7e3f6",
   "metadata": {},
   "outputs": [
    {
     "name": "stdout",
     "output_type": "stream",
     "text": [
      "[[539   0   0   0   1   0   0   0   0   0]\n",
      " [  0 457   0   0   0   0   0   0   0   1]\n",
      " [  0   0 429   0   0   0   0   0   0   0]\n",
      " [  0   0   0 492   0   0   0   0   0   0]\n",
      " [  0   0   0   2 426   0   0   0   0   0]\n",
      " [  3   0   0   0   0 472   0   1   0   0]\n",
      " [  0   0   0   0   0   0 465   0   0   0]\n",
      " [  0   0   2   0   0   0   0 395   0   0]\n",
      " [  0   0   0   0   0   0   0   0 367   1]\n",
      " [  0   0   0   0   0   0   0   0   1 431]]\n"
     ]
    }
   ],
   "source": [
    "print(confusion_matrix(y_true_test, y_pred_test_classes))"
   ]
  },
  {
   "cell_type": "code",
   "execution_count": 11,
   "id": "dfa042d5-b381-40b7-9c5c-1e1ee5e5fd4c",
   "metadata": {},
   "outputs": [],
   "source": [
    "n_folds = 10\n",
    "\n",
    "kfold = KFold(n_folds, shuffle=True, random_state=42)\n",
    "\n",
    "models = []\n",
    "histories = []\n",
    "accuracies = []\n",
    "precisions = []\n",
    "recalls = []\n",
    "f1_scores = []\n",
    "conf_matrices = []"
   ]
  },
  {
   "cell_type": "code",
   "execution_count": 14,
   "id": "08fdb180",
   "metadata": {},
   "outputs": [],
   "source": [
    "input_node = ak.nodes.ImageInput()\n",
    "output_node = ak.ImageBlock(\n",
    "    block_type=\"vanilla\",\n",
    "    normalize=False,\n",
    "    augment=False,\n",
    ")(input_node)\n",
    "output_node = ak.ClassificationHead()(output_node)\n",
    "clf = ak.AutoModel(\n",
    "    inputs=input_node, outputs=output_node, overwrite=True, max_trials=100, objective='val_accuracy' \n",
    ")"
   ]
  },
  {
   "cell_type": "code",
   "execution_count": 15,
   "id": "54e21fbb",
   "metadata": {},
   "outputs": [
    {
     "name": "stdout",
     "output_type": "stream",
     "text": [
      "Trial 100 Complete [00h 00m 23s]\n",
      "val_accuracy: 0.9723522663116455\n",
      "\n",
      "Best val_accuracy So Far: 0.9723522663116455\n",
      "Total elapsed time: 00h 42m 58s\n",
      "Epoch 1/10\n",
      "561/561 [==============================] - 4s 4ms/step - loss: 2.0660 - accuracy: 0.2216 - val_loss: 1.3987 - val_accuracy: 0.4792\n",
      "Epoch 2/10\n",
      "561/561 [==============================] - 2s 4ms/step - loss: 0.8549 - accuracy: 0.7088 - val_loss: 0.5662 - val_accuracy: 0.8167\n",
      "Epoch 3/10\n",
      "561/561 [==============================] - 2s 4ms/step - loss: 0.4477 - accuracy: 0.8609 - val_loss: 0.3390 - val_accuracy: 0.8981\n",
      "Epoch 4/10\n",
      "561/561 [==============================] - 2s 4ms/step - loss: 0.2928 - accuracy: 0.9115 - val_loss: 0.2669 - val_accuracy: 0.9242\n",
      "Epoch 5/10\n",
      "561/561 [==============================] - 2s 4ms/step - loss: 0.2179 - accuracy: 0.9357 - val_loss: 0.2197 - val_accuracy: 0.9349\n",
      "Epoch 6/10\n",
      "561/561 [==============================] - 2s 4ms/step - loss: 0.1588 - accuracy: 0.9553 - val_loss: 0.1979 - val_accuracy: 0.9478\n",
      "Epoch 7/10\n",
      "561/561 [==============================] - 2s 4ms/step - loss: 0.1237 - accuracy: 0.9651 - val_loss: 0.1990 - val_accuracy: 0.9478\n",
      "Epoch 8/10\n",
      "561/561 [==============================] - 2s 4ms/step - loss: 0.0957 - accuracy: 0.9735 - val_loss: 0.1871 - val_accuracy: 0.9507\n",
      "Epoch 9/10\n",
      "561/561 [==============================] - 2s 4ms/step - loss: 0.0730 - accuracy: 0.9798 - val_loss: 0.1651 - val_accuracy: 0.9601\n",
      "Epoch 10/10\n",
      "561/561 [==============================] - 2s 4ms/step - loss: 0.0554 - accuracy: 0.9856 - val_loss: 0.1566 - val_accuracy: 0.9639\n",
      "INFO:tensorflow:Assets written to: ./auto_model/best_model/assets\n"
     ]
    },
    {
     "name": "stderr",
     "output_type": "stream",
     "text": [
      "INFO:tensorflow:Assets written to: ./auto_model/best_model/assets\n"
     ]
    },
    {
     "data": {
      "text/plain": [
       "<keras.src.callbacks.History at 0x7f09e46da380>"
      ]
     },
     "execution_count": 15,
     "metadata": {},
     "output_type": "execute_result"
    }
   ],
   "source": [
    "clf.fit(X_train, y_train, validation_data=(X_test, y_test), epochs=10)"
   ]
  },
  {
   "cell_type": "code",
   "execution_count": 16,
   "id": "d1dcbf35-9b94-4e6a-8cda-a40b6e2409aa",
   "metadata": {},
   "outputs": [],
   "source": [
    "model = clf.export_model()"
   ]
  },
  {
   "cell_type": "code",
   "execution_count": 17,
   "id": "b0a9d492-4f40-407c-b3a5-ad485ea4bcd4",
   "metadata": {},
   "outputs": [
    {
     "name": "stdout",
     "output_type": "stream",
     "text": [
      "Model: \"model\"\n",
      "_________________________________________________________________\n",
      " Layer (type)                Output Shape              Param #   \n",
      "=================================================================\n",
      " input_1 (InputLayer)        [(None, 112, 112, 3)]     0         \n",
      "                                                                 \n",
      " cast_to_float32 (CastToFlo  (None, 112, 112, 3)       0         \n",
      " at32)                                                           \n",
      "                                                                 \n",
      " conv2d (Conv2D)             (None, 110, 110, 16)      448       \n",
      "                                                                 \n",
      " conv2d_1 (Conv2D)           (None, 108, 108, 4)       580       \n",
      "                                                                 \n",
      " max_pooling2d (MaxPooling2  (None, 54, 54, 4)         0         \n",
      " D)                                                              \n",
      "                                                                 \n",
      " conv2d_2 (Conv2D)           (None, 52, 52, 8)         296       \n",
      "                                                                 \n",
      " conv2d_3 (Conv2D)           (None, 50, 50, 2)         146       \n",
      "                                                                 \n",
      " max_pooling2d_1 (MaxPoolin  (None, 25, 25, 2)         0         \n",
      " g2D)                                                            \n",
      "                                                                 \n",
      " conv2d_4 (Conv2D)           (None, 23, 23, 8)         152       \n",
      "                                                                 \n",
      " conv2d_5 (Conv2D)           (None, 21, 21, 32)        2336      \n",
      "                                                                 \n",
      " max_pooling2d_2 (MaxPoolin  (None, 10, 10, 32)        0         \n",
      " g2D)                                                            \n",
      "                                                                 \n",
      " conv2d_6 (Conv2D)           (None, 8, 8, 32)          9248      \n",
      "                                                                 \n",
      " conv2d_7 (Conv2D)           (None, 6, 6, 32)          9248      \n",
      "                                                                 \n",
      " max_pooling2d_3 (MaxPoolin  (None, 3, 3, 32)          0         \n",
      " g2D)                                                            \n",
      "                                                                 \n",
      " conv2d_8 (Conv2D)           (None, 3, 3, 16)          4624      \n",
      "                                                                 \n",
      " conv2d_9 (Conv2D)           (None, 3, 3, 16)          2320      \n",
      "                                                                 \n",
      " max_pooling2d_4 (MaxPoolin  (None, 2, 2, 16)          0         \n",
      " g2D)                                                            \n",
      "                                                                 \n",
      " conv2d_10 (Conv2D)          (None, 2, 2, 8)           1160      \n",
      "                                                                 \n",
      " conv2d_11 (Conv2D)          (None, 2, 2, 8)           584       \n",
      "                                                                 \n",
      " max_pooling2d_5 (MaxPoolin  (None, 1, 1, 8)           0         \n",
      " g2D)                                                            \n",
      "                                                                 \n",
      " global_max_pooling2d (Glob  (None, 8)                 0         \n",
      " alMaxPooling2D)                                                 \n",
      "                                                                 \n",
      " dense (Dense)               (None, 10)                90        \n",
      "                                                                 \n",
      " classification_head_1 (Sof  (None, 10)                0         \n",
      " tmax)                                                           \n",
      "                                                                 \n",
      "=================================================================\n",
      "Total params: 31232 (122.00 KB)\n",
      "Trainable params: 31232 (122.00 KB)\n",
      "Non-trainable params: 0 (0.00 Byte)\n",
      "_________________________________________________________________\n"
     ]
    }
   ],
   "source": [
    "model.summary()"
   ]
  }
 ],
 "metadata": {
  "kernelspec": {
   "display_name": "Python 3 (ipykernel)",
   "language": "python",
   "name": "python3"
  },
  "language_info": {
   "codemirror_mode": {
    "name": "ipython",
    "version": 3
   },
   "file_extension": ".py",
   "mimetype": "text/x-python",
   "name": "python",
   "nbconvert_exporter": "python",
   "pygments_lexer": "ipython3",
   "version": "3.11.6"
  }
 },
 "nbformat": 4,
 "nbformat_minor": 5
}
