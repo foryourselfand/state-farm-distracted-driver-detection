{
 "cells": [
  {
   "cell_type": "code",
   "execution_count": 24,
   "id": "0192487c-250b-4e2b-9deb-d81ef4aec4d0",
   "metadata": {
    "ExecuteTime": {
     "end_time": "2024-01-11T10:39:36.293237Z",
     "start_time": "2024-01-11T10:39:36.109667Z"
    }
   },
   "outputs": [],
   "source": [
    "import os\n",
    "import numpy as np\n",
    "import matplotlib.cm as cm\n",
    "import pandas as pd\n",
    "import tensorflow as tf\n",
    "from PIL import Image\n",
    "from sklearn.metrics import classification_report\n",
    "from sklearn.model_selection import train_test_split\n",
    "from tensorflow.keras.layers import Conv2D, MaxPooling2D, Flatten, Dense, BatchNormalization, Dropout\n",
    "from tensorflow.keras.models import Sequential\n",
    "from tensorflow.keras.preprocessing import image\n",
    "from tensorflow.keras.utils import to_categorical\n",
    "import matplotlib.pyplot as plt"
   ]
  },
  {
   "cell_type": "code",
   "execution_count": 2,
   "id": "3c153031-b3b4-4c5a-8e10-54ce345b1180",
   "metadata": {
    "ExecuteTime": {
     "end_time": "2024-01-11T10:33:37.876465Z",
     "start_time": "2024-01-11T10:33:37.870979Z"
    }
   },
   "outputs": [
    {
     "data": {
      "text/plain": "[PhysicalDevice(name='/physical_device:GPU:0', device_type='GPU')]"
     },
     "execution_count": 2,
     "metadata": {},
     "output_type": "execute_result"
    }
   ],
   "source": [
    "tf.config.list_physical_devices('GPU')"
   ]
  },
  {
   "cell_type": "code",
   "execution_count": 3,
   "id": "42de6f95-8a4f-4650-b6d9-75ba87dcb673",
   "metadata": {
    "ExecuteTime": {
     "end_time": "2024-01-11T10:33:37.878718Z",
     "start_time": "2024-01-11T10:33:37.874472Z"
    }
   },
   "outputs": [],
   "source": [
    "train_dir = 'imgs/train'\n",
    "test_dir = 'imgs/test'\n",
    "csv_file = 'driver_imgs_list.csv'"
   ]
  },
  {
   "cell_type": "code",
   "execution_count": 4,
   "id": "cf6fdcec-9a03-4d5f-9f71-39dd8715f375",
   "metadata": {
    "ExecuteTime": {
     "end_time": "2024-01-11T10:33:39.260739Z",
     "start_time": "2024-01-11T10:33:39.234178Z"
    }
   },
   "outputs": [],
   "source": [
    "driver_details = pd.read_csv(csv_file)"
   ]
  },
  {
   "cell_type": "code",
   "execution_count": 5,
   "id": "d6bc94af-21c0-43e3-80c4-d453316f2ad6",
   "metadata": {
    "ExecuteTime": {
     "end_time": "2024-01-11T10:33:39.857351Z",
     "start_time": "2024-01-11T10:33:39.848093Z"
    }
   },
   "outputs": [
    {
     "data": {
      "text/plain": "      subject classname            img\n0        p002        c0  img_44733.jpg\n1        p002        c0  img_72999.jpg\n2        p002        c0  img_25094.jpg\n3        p002        c0  img_69092.jpg\n4        p002        c0  img_92629.jpg\n...       ...       ...            ...\n22419    p081        c9  img_56936.jpg\n22420    p081        c9  img_46218.jpg\n22421    p081        c9  img_25946.jpg\n22422    p081        c9  img_67850.jpg\n22423    p081        c9   img_9684.jpg\n\n[22424 rows x 3 columns]",
      "text/html": "<div>\n<style scoped>\n    .dataframe tbody tr th:only-of-type {\n        vertical-align: middle;\n    }\n\n    .dataframe tbody tr th {\n        vertical-align: top;\n    }\n\n    .dataframe thead th {\n        text-align: right;\n    }\n</style>\n<table border=\"1\" class=\"dataframe\">\n  <thead>\n    <tr style=\"text-align: right;\">\n      <th></th>\n      <th>subject</th>\n      <th>classname</th>\n      <th>img</th>\n    </tr>\n  </thead>\n  <tbody>\n    <tr>\n      <th>0</th>\n      <td>p002</td>\n      <td>c0</td>\n      <td>img_44733.jpg</td>\n    </tr>\n    <tr>\n      <th>1</th>\n      <td>p002</td>\n      <td>c0</td>\n      <td>img_72999.jpg</td>\n    </tr>\n    <tr>\n      <th>2</th>\n      <td>p002</td>\n      <td>c0</td>\n      <td>img_25094.jpg</td>\n    </tr>\n    <tr>\n      <th>3</th>\n      <td>p002</td>\n      <td>c0</td>\n      <td>img_69092.jpg</td>\n    </tr>\n    <tr>\n      <th>4</th>\n      <td>p002</td>\n      <td>c0</td>\n      <td>img_92629.jpg</td>\n    </tr>\n    <tr>\n      <th>...</th>\n      <td>...</td>\n      <td>...</td>\n      <td>...</td>\n    </tr>\n    <tr>\n      <th>22419</th>\n      <td>p081</td>\n      <td>c9</td>\n      <td>img_56936.jpg</td>\n    </tr>\n    <tr>\n      <th>22420</th>\n      <td>p081</td>\n      <td>c9</td>\n      <td>img_46218.jpg</td>\n    </tr>\n    <tr>\n      <th>22421</th>\n      <td>p081</td>\n      <td>c9</td>\n      <td>img_25946.jpg</td>\n    </tr>\n    <tr>\n      <th>22422</th>\n      <td>p081</td>\n      <td>c9</td>\n      <td>img_67850.jpg</td>\n    </tr>\n    <tr>\n      <th>22423</th>\n      <td>p081</td>\n      <td>c9</td>\n      <td>img_9684.jpg</td>\n    </tr>\n  </tbody>\n</table>\n<p>22424 rows × 3 columns</p>\n</div>"
     },
     "execution_count": 5,
     "metadata": {},
     "output_type": "execute_result"
    }
   ],
   "source": [
    "driver_details"
   ]
  },
  {
   "cell_type": "code",
   "execution_count": 6,
   "id": "5839e664-91b6-4c90-a16c-c928bc923ed4",
   "metadata": {
    "ExecuteTime": {
     "end_time": "2024-01-11T10:28:12.463932Z",
     "start_time": "2024-01-11T10:28:12.454347Z"
    }
   },
   "outputs": [],
   "source": [
    "def load_images_from_folder(base_folder, size=(112, 112)):\n",
    "    total_images = sum([len(files) for r, d, files in os.walk(base_folder)])\n",
    "\n",
    "    all_images = np.empty((total_images, size[0], size[1], 3), dtype=np.uint8)\n",
    "    all_labels = np.empty(total_images, dtype=np.uint8)\n",
    "\n",
    "    idx = 0\n",
    "    for folder in os.listdir(base_folder):\n",
    "        folder_path = os.path.join(base_folder, folder)\n",
    "\n",
    "        if os.path.isdir(folder_path):\n",
    "            for filename in os.listdir(folder_path):\n",
    "                img_path = os.path.join(folder_path, filename)\n",
    "\n",
    "                try:\n",
    "                    img = Image.open(img_path).resize(size)\n",
    "                    all_images[idx] = np.array(img)\n",
    "                    all_labels[idx] = folder[-1]\n",
    "                    idx += 1\n",
    "                except IOError:\n",
    "                    print(f\"Error in reading {img_path}. Skipping.\")\n",
    "\n",
    "    return all_images, all_labels"
   ]
  },
  {
   "cell_type": "code",
   "execution_count": 19,
   "id": "6e644de4982d4441",
   "metadata": {
    "collapsed": false,
    "ExecuteTime": {
     "end_time": "2024-01-11T10:33:14.759035Z",
     "start_time": "2024-01-11T10:32:16.463912Z"
    }
   },
   "outputs": [
    {
     "ename": "KeyboardInterrupt",
     "evalue": "",
     "output_type": "error",
     "traceback": [
      "\u001B[0;31m---------------------------------------------------------------------------\u001B[0m",
      "\u001B[0;31mKeyboardInterrupt\u001B[0m                         Traceback (most recent call last)",
      "Cell \u001B[0;32mIn[19], line 1\u001B[0m\n\u001B[0;32m----> 1\u001B[0m images, labels \u001B[38;5;241m=\u001B[39m \u001B[43mload_images_from_folder\u001B[49m\u001B[43m(\u001B[49m\u001B[43mtrain_dir\u001B[49m\u001B[43m)\u001B[49m\n",
      "Cell \u001B[0;32mIn[6], line 17\u001B[0m, in \u001B[0;36mload_images_from_folder\u001B[0;34m(base_folder, size)\u001B[0m\n\u001B[1;32m     15\u001B[0m \u001B[38;5;28;01mtry\u001B[39;00m:\n\u001B[1;32m     16\u001B[0m     img \u001B[38;5;241m=\u001B[39m Image\u001B[38;5;241m.\u001B[39mopen(img_path)\u001B[38;5;241m.\u001B[39mresize(size)\n\u001B[0;32m---> 17\u001B[0m     all_images[idx] \u001B[38;5;241m=\u001B[39m np\u001B[38;5;241m.\u001B[39marray(img)\n\u001B[1;32m     18\u001B[0m     all_labels[idx] \u001B[38;5;241m=\u001B[39m folder[\u001B[38;5;241m-\u001B[39m\u001B[38;5;241m1\u001B[39m]\n\u001B[1;32m     19\u001B[0m     idx \u001B[38;5;241m+\u001B[39m\u001B[38;5;241m=\u001B[39m \u001B[38;5;241m1\u001B[39m\n",
      "File \u001B[0;32m~/Documents/state_farm_distracted_driver_detection/venv/lib/python3.11/site-packages/PIL/Image.py:668\u001B[0m, in \u001B[0;36mImage.__array_interface__\u001B[0;34m(self)\u001B[0m\n\u001B[1;32m    662\u001B[0m \u001B[38;5;250m    \u001B[39m\u001B[38;5;124;03m\"\"\"iPython display hook support for JPEG format.\u001B[39;00m\n\u001B[1;32m    663\u001B[0m \n\u001B[1;32m    664\u001B[0m \u001B[38;5;124;03m    :returns: JPEG version of the image as bytes\u001B[39;00m\n\u001B[1;32m    665\u001B[0m \u001B[38;5;124;03m    \"\"\"\u001B[39;00m\n\u001B[1;32m    666\u001B[0m     \u001B[38;5;28;01mreturn\u001B[39;00m \u001B[38;5;28mself\u001B[39m\u001B[38;5;241m.\u001B[39m_repr_image(\u001B[38;5;124m\"\u001B[39m\u001B[38;5;124mJPEG\u001B[39m\u001B[38;5;124m\"\u001B[39m)\n\u001B[0;32m--> 668\u001B[0m \u001B[38;5;129m@property\u001B[39m\n\u001B[1;32m    669\u001B[0m \u001B[38;5;28;01mdef\u001B[39;00m \u001B[38;5;21m__array_interface__\u001B[39m(\u001B[38;5;28mself\u001B[39m):\n\u001B[1;32m    670\u001B[0m     \u001B[38;5;66;03m# numpy array interface support\u001B[39;00m\n\u001B[1;32m    671\u001B[0m     new \u001B[38;5;241m=\u001B[39m {\u001B[38;5;124m\"\u001B[39m\u001B[38;5;124mversion\u001B[39m\u001B[38;5;124m\"\u001B[39m: \u001B[38;5;241m3\u001B[39m}\n\u001B[1;32m    672\u001B[0m     \u001B[38;5;28;01mtry\u001B[39;00m:\n",
      "\u001B[0;31mKeyboardInterrupt\u001B[0m: "
     ]
    }
   ],
   "source": [
    "images, labels = load_images_from_folder(train_dir)"
   ]
  },
  {
   "cell_type": "code",
   "execution_count": 8,
   "id": "340ea63cce8f45c1",
   "metadata": {
    "collapsed": false,
    "ExecuteTime": {
     "end_time": "2024-01-11T10:30:01.096061Z",
     "start_time": "2024-01-11T10:30:01.093516Z"
    }
   },
   "outputs": [
    {
     "data": {
      "text/plain": "(22424, 112, 112, 3)"
     },
     "execution_count": 8,
     "metadata": {},
     "output_type": "execute_result"
    }
   ],
   "source": [
    "images.shape"
   ]
  },
  {
   "cell_type": "code",
   "execution_count": 9,
   "id": "53efa43b3679175c",
   "metadata": {
    "collapsed": false,
    "ExecuteTime": {
     "end_time": "2024-01-11T10:30:01.098521Z",
     "start_time": "2024-01-11T10:30:01.096171Z"
    }
   },
   "outputs": [
    {
     "data": {
      "text/plain": "(22424,)"
     },
     "execution_count": 9,
     "metadata": {},
     "output_type": "execute_result"
    }
   ],
   "source": [
    "labels.shape"
   ]
  },
  {
   "cell_type": "code",
   "execution_count": 10,
   "id": "fd9764dc876ddd7c",
   "metadata": {
    "collapsed": false,
    "ExecuteTime": {
     "end_time": "2024-01-11T10:30:01.101282Z",
     "start_time": "2024-01-11T10:30:01.099413Z"
    }
   },
   "outputs": [
    {
     "data": {
      "text/plain": "array([7, 7, 7, ..., 2, 2, 2], dtype=uint8)"
     },
     "execution_count": 10,
     "metadata": {},
     "output_type": "execute_result"
    }
   ],
   "source": [
    "labels"
   ]
  },
  {
   "cell_type": "code",
   "execution_count": 11,
   "id": "b7930af15af6c4b6",
   "metadata": {
    "collapsed": false,
    "ExecuteTime": {
     "end_time": "2024-01-11T10:30:01.114303Z",
     "start_time": "2024-01-11T10:30:01.101726Z"
    }
   },
   "outputs": [
    {
     "data": {
      "text/plain": "array([2489, 2267, 2317, 2346, 2326, 2312, 2325, 2002, 1911, 2129])"
     },
     "execution_count": 11,
     "metadata": {},
     "output_type": "execute_result"
    }
   ],
   "source": [
    "np.bincount(labels)"
   ]
  },
  {
   "cell_type": "code",
   "execution_count": 12,
   "id": "e1d449bf229c0fd4",
   "metadata": {
    "collapsed": false,
    "ExecuteTime": {
     "end_time": "2024-01-11T10:30:01.669015Z",
     "start_time": "2024-01-11T10:30:01.107082Z"
    }
   },
   "outputs": [],
   "source": [
    "X = images.astype('float32') / 255"
   ]
  },
  {
   "cell_type": "code",
   "execution_count": 13,
   "id": "56bfe129410b2fc",
   "metadata": {
    "collapsed": false,
    "ExecuteTime": {
     "end_time": "2024-01-11T10:30:01.670112Z",
     "start_time": "2024-01-11T10:30:01.667543Z"
    }
   },
   "outputs": [],
   "source": [
    "Y = to_categorical(labels, 10)"
   ]
  },
  {
   "cell_type": "code",
   "execution_count": 14,
   "id": "35e3cb446780d223",
   "metadata": {
    "collapsed": false,
    "ExecuteTime": {
     "end_time": "2024-01-11T10:30:02.039686Z",
     "start_time": "2024-01-11T10:30:01.670840Z"
    }
   },
   "outputs": [],
   "source": [
    "X_train, X_test, y_train, y_test = train_test_split(X, Y, test_size=0.2, random_state=42)"
   ]
  },
  {
   "cell_type": "code",
   "execution_count": 15,
   "id": "bc953223889dafb9",
   "metadata": {
    "collapsed": false,
    "ExecuteTime": {
     "end_time": "2024-01-11T10:30:02.040958Z",
     "start_time": "2024-01-11T10:30:02.036442Z"
    }
   },
   "outputs": [
    {
     "data": {
      "text/plain": "((17939, 112, 112, 3), (4485, 112, 112, 3))"
     },
     "execution_count": 15,
     "metadata": {},
     "output_type": "execute_result"
    }
   ],
   "source": [
    "X_train.shape, X_test.shape"
   ]
  },
  {
   "cell_type": "code",
   "execution_count": 16,
   "id": "4eb7176e-5ad8-4b06-a0ee-d9609750fc3e",
   "metadata": {
    "ExecuteTime": {
     "end_time": "2024-01-11T10:30:02.044171Z",
     "start_time": "2024-01-11T10:30:02.041804Z"
    }
   },
   "outputs": [
    {
     "data": {
      "text/plain": "((17939, 10), (4485, 10))"
     },
     "execution_count": 16,
     "metadata": {},
     "output_type": "execute_result"
    }
   ],
   "source": [
    "y_train.shape, y_test.shape"
   ]
  },
  {
   "cell_type": "code",
   "outputs": [],
   "source": [
    "np.savez_compressed(\n",
    "    'data.npz',\n",
    "    X_test=X_test,\n",
    "    y_test=y_test,\n",
    "    X_train=X_train,\n",
    "    y_train=y_train\n",
    ")"
   ],
   "metadata": {
    "collapsed": false,
    "ExecuteTime": {
     "end_time": "2024-01-11T10:31:15.222956Z",
     "start_time": "2024-01-11T10:30:46.688554Z"
    }
   },
   "id": "ab541c1c23eea85",
   "execution_count": 17
  },
  {
   "cell_type": "code",
   "outputs": [],
   "source": [
    "data = np.load('data.npz')\n",
    "X_train, X_test, y_train, y_test = data['X_train'], data['X_test'],  data['y_train'], data['y_test'] "
   ],
   "metadata": {
    "collapsed": false,
    "ExecuteTime": {
     "end_time": "2024-01-11T10:34:47.342571Z",
     "start_time": "2024-01-11T10:34:43.183291Z"
    }
   },
   "id": "d1aec57d2a18dfa3",
   "execution_count": 6
  },
  {
   "cell_type": "code",
   "execution_count": 7,
   "id": "100246bd-1e30-43c5-84a2-aa81f2dae29c",
   "metadata": {
    "ExecuteTime": {
     "end_time": "2024-01-11T10:34:52.248983Z",
     "start_time": "2024-01-11T10:34:52.056706Z"
    }
   },
   "outputs": [
    {
     "name": "stderr",
     "output_type": "stream",
     "text": [
      "2024-01-11 13:34:52.067969: I metal_plugin/src/device/metal_device.cc:1154] Metal device set to: Apple M1 Max\n",
      "2024-01-11 13:34:52.067993: I metal_plugin/src/device/metal_device.cc:296] systemMemory: 64.00 GB\n",
      "2024-01-11 13:34:52.068005: I metal_plugin/src/device/metal_device.cc:313] maxCacheSize: 24.00 GB\n",
      "2024-01-11 13:34:52.068067: I tensorflow/core/common_runtime/pluggable_device/pluggable_device_factory.cc:306] Could not identify NUMA node of platform GPU ID 0, defaulting to 0. Your kernel may not have been built with NUMA support.\n",
      "2024-01-11 13:34:52.068349: I tensorflow/core/common_runtime/pluggable_device/pluggable_device_factory.cc:272] Created TensorFlow device (/job:localhost/replica:0/task:0/device:GPU:0 with 0 MB memory) -> physical PluggableDevice (device: 0, name: METAL, pci bus id: <undefined>)\n"
     ]
    }
   ],
   "source": [
    "small_model = Sequential([\n",
    "    Conv2D(32, (3, 3), activation='relu', input_shape=(112, 112, 3)),\n",
    "    MaxPooling2D(2, 2),\n",
    "    Flatten(),\n",
    "    Dense(10, activation='softmax')\n",
    "])\n",
    "small_model.compile(optimizer='adam', loss='categorical_crossentropy', metrics=['accuracy'])"
   ]
  },
  {
   "cell_type": "code",
   "execution_count": 8,
   "id": "ab8c7a6fda628bce",
   "metadata": {
    "collapsed": false,
    "ExecuteTime": {
     "end_time": "2024-01-11T10:34:54.263804Z",
     "start_time": "2024-01-11T10:34:54.253136Z"
    }
   },
   "outputs": [
    {
     "name": "stdout",
     "output_type": "stream",
     "text": [
      "Model: \"sequential\"\n",
      "_________________________________________________________________\n",
      " Layer (type)                Output Shape              Param #   \n",
      "=================================================================\n",
      " conv2d (Conv2D)             (None, 110, 110, 32)      896       \n",
      "                                                                 \n",
      " max_pooling2d (MaxPooling2  (None, 55, 55, 32)        0         \n",
      " D)                                                              \n",
      "                                                                 \n",
      " flatten (Flatten)           (None, 96800)             0         \n",
      "                                                                 \n",
      " dense (Dense)               (None, 10)                968010    \n",
      "                                                                 \n",
      "=================================================================\n",
      "Total params: 968906 (3.70 MB)\n",
      "Trainable params: 968906 (3.70 MB)\n",
      "Non-trainable params: 0 (0.00 Byte)\n",
      "_________________________________________________________________\n"
     ]
    }
   ],
   "source": [
    "small_model.summary()"
   ]
  },
  {
   "cell_type": "code",
   "execution_count": 29,
   "id": "7582a6a0f37b3f1e",
   "metadata": {
    "collapsed": false,
    "ExecuteTime": {
     "end_time": "2024-01-11T10:40:46.894088Z",
     "start_time": "2024-01-11T10:40:46.708186Z"
    }
   },
   "outputs": [],
   "source": [
    "big_model = Sequential([\n",
    "    Conv2D(32, (3, 3), activation='relu',\n",
    "           input_shape=(112, 112, 3)),\n",
    "    BatchNormalization(),\n",
    "    MaxPooling2D(pool_size=(2, 2)),\n",
    "    Conv2D(64, (3, 3), activation='relu'),\n",
    "    BatchNormalization(),\n",
    "    Conv2D(64, (3, 3), activation='relu'),\n",
    "    BatchNormalization(),\n",
    "    MaxPooling2D(pool_size=(2, 2)),\n",
    "    Conv2D(128, (3, 3), activation='relu'),\n",
    "    BatchNormalization(),\n",
    "    Flatten(),\n",
    "    Dense(128, activation='relu'),\n",
    "    Dense(64, activation='relu'),\n",
    "    Dropout(0.5),\n",
    "    Dense(10, activation='softmax')\n",
    "])\n",
    "big_model.compile(optimizer='adam', loss='categorical_crossentropy', metrics=['accuracy'])"
   ]
  },
  {
   "cell_type": "code",
   "execution_count": 30,
   "id": "953c747a21a3e61b",
   "metadata": {
    "collapsed": false,
    "ExecuteTime": {
     "end_time": "2024-01-11T10:40:48.483669Z",
     "start_time": "2024-01-11T10:40:48.443423Z"
    }
   },
   "outputs": [
    {
     "name": "stdout",
     "output_type": "stream",
     "text": [
      "Model: \"sequential_1\"\n",
      "_________________________________________________________________\n",
      " Layer (type)                Output Shape              Param #   \n",
      "=================================================================\n",
      " conv2d_1 (Conv2D)           (None, 110, 110, 32)      896       \n",
      "                                                                 \n",
      " batch_normalization (Batch  (None, 110, 110, 32)      128       \n",
      " Normalization)                                                  \n",
      "                                                                 \n",
      " max_pooling2d_1 (MaxPoolin  (None, 55, 55, 32)        0         \n",
      " g2D)                                                            \n",
      "                                                                 \n",
      " conv2d_2 (Conv2D)           (None, 53, 53, 64)        18496     \n",
      "                                                                 \n",
      " batch_normalization_1 (Bat  (None, 53, 53, 64)        256       \n",
      " chNormalization)                                                \n",
      "                                                                 \n",
      " conv2d_3 (Conv2D)           (None, 51, 51, 64)        36928     \n",
      "                                                                 \n",
      " batch_normalization_2 (Bat  (None, 51, 51, 64)        256       \n",
      " chNormalization)                                                \n",
      "                                                                 \n",
      " max_pooling2d_2 (MaxPoolin  (None, 25, 25, 64)        0         \n",
      " g2D)                                                            \n",
      "                                                                 \n",
      " conv2d_4 (Conv2D)           (None, 23, 23, 128)       73856     \n",
      "                                                                 \n",
      " batch_normalization_3 (Bat  (None, 23, 23, 128)       512       \n",
      " chNormalization)                                                \n",
      "                                                                 \n",
      " flatten_1 (Flatten)         (None, 67712)             0         \n",
      "                                                                 \n",
      " dense_1 (Dense)             (None, 128)               8667264   \n",
      "                                                                 \n",
      " dense_2 (Dense)             (None, 64)                8256      \n",
      "                                                                 \n",
      " dropout (Dropout)           (None, 64)                0         \n",
      "                                                                 \n",
      " dense_3 (Dense)             (None, 10)                650       \n",
      "                                                                 \n",
      "=================================================================\n",
      "Total params: 8807498 (33.60 MB)\n",
      "Trainable params: 8806922 (33.60 MB)\n",
      "Non-trainable params: 576 (2.25 KB)\n",
      "_________________________________________________________________\n"
     ]
    }
   ],
   "source": [
    "big_model.summary()"
   ]
  },
  {
   "cell_type": "code",
   "execution_count": 9,
   "id": "749ce863-ba11-4fcc-b27c-03d320de4d95",
   "metadata": {
    "ExecuteTime": {
     "end_time": "2024-01-11T10:36:55.377752Z",
     "start_time": "2024-01-11T10:35:05.825459Z"
    }
   },
   "outputs": [
    {
     "name": "stdout",
     "output_type": "stream",
     "text": [
      "Epoch 1/10\n",
      "  1/561 [..............................] - ETA: 3:07 - loss: 2.3022 - accuracy: 0.1250"
     ]
    },
    {
     "name": "stderr",
     "output_type": "stream",
     "text": [
      "2024-01-11 13:35:06.835346: I tensorflow/core/grappler/optimizers/custom_graph_optimizer_registry.cc:117] Plugin optimizer for device_type GPU is enabled.\n"
     ]
    },
    {
     "name": "stdout",
     "output_type": "stream",
     "text": [
      "561/561 [==============================] - 12s 20ms/step - loss: 0.5418 - accuracy: 0.8616 - val_loss: 0.0655 - val_accuracy: 0.9853\n",
      "Epoch 2/10\n",
      "561/561 [==============================] - 11s 19ms/step - loss: 0.0183 - accuracy: 0.9964 - val_loss: 0.0248 - val_accuracy: 0.9940\n",
      "Epoch 3/10\n",
      "561/561 [==============================] - 11s 19ms/step - loss: 0.0055 - accuracy: 0.9996 - val_loss: 0.0303 - val_accuracy: 0.9938\n",
      "Epoch 4/10\n",
      "561/561 [==============================] - 11s 19ms/step - loss: 0.0066 - accuracy: 0.9986 - val_loss: 0.0159 - val_accuracy: 0.9964\n",
      "Epoch 5/10\n",
      "561/561 [==============================] - 11s 19ms/step - loss: 5.2333e-04 - accuracy: 1.0000 - val_loss: 0.0150 - val_accuracy: 0.9962\n",
      "Epoch 6/10\n",
      "561/561 [==============================] - 11s 19ms/step - loss: 2.0376e-04 - accuracy: 1.0000 - val_loss: 0.0144 - val_accuracy: 0.9962\n",
      "Epoch 7/10\n",
      "561/561 [==============================] - 11s 19ms/step - loss: 1.3453e-04 - accuracy: 1.0000 - val_loss: 0.0141 - val_accuracy: 0.9967\n",
      "Epoch 8/10\n",
      "561/561 [==============================] - 11s 20ms/step - loss: 9.2613e-05 - accuracy: 1.0000 - val_loss: 0.0148 - val_accuracy: 0.9964\n",
      "Epoch 9/10\n",
      "561/561 [==============================] - 11s 19ms/step - loss: 6.4602e-05 - accuracy: 1.0000 - val_loss: 0.0147 - val_accuracy: 0.9962\n",
      "Epoch 10/10\n",
      "561/561 [==============================] - 11s 19ms/step - loss: 4.7582e-05 - accuracy: 1.0000 - val_loss: 0.0148 - val_accuracy: 0.9964\n"
     ]
    }
   ],
   "source": [
    "history = small_model.fit(X_train, y_train, epochs=10, validation_data=(X_test, y_test))"
   ]
  },
  {
   "cell_type": "code",
   "execution_count": 31,
   "id": "ae1aed4f3ae484e0",
   "metadata": {
    "collapsed": false,
    "ExecuteTime": {
     "end_time": "2024-01-11T10:48:18.493871Z",
     "start_time": "2024-01-11T10:40:58.705109Z"
    }
   },
   "outputs": [
    {
     "name": "stdout",
     "output_type": "stream",
     "text": [
      "Epoch 1/25\n",
      "561/561 [==============================] - 23s 34ms/step - loss: 103.4727 - accuracy: 0.3786 - val_loss: 47.8878 - val_accuracy: 0.5710\n",
      "Epoch 2/25\n",
      "561/561 [==============================] - 16s 28ms/step - loss: 48.5662 - accuracy: 0.7356 - val_loss: 25.0304 - val_accuracy: 0.8754\n",
      "Epoch 3/25\n",
      "561/561 [==============================] - 16s 28ms/step - loss: 25.1318 - accuracy: 0.8642 - val_loss: 7.8295 - val_accuracy: 0.9625\n",
      "Epoch 4/25\n",
      "561/561 [==============================] - 16s 28ms/step - loss: 17.5054 - accuracy: 0.9095 - val_loss: 12.1783 - val_accuracy: 0.9478\n",
      "Epoch 5/25\n",
      "561/561 [==============================] - 16s 28ms/step - loss: 13.3932 - accuracy: 0.9333 - val_loss: 7.3047 - val_accuracy: 0.9594\n",
      "Epoch 6/25\n",
      "561/561 [==============================] - 16s 28ms/step - loss: 12.5292 - accuracy: 0.9429 - val_loss: 7.6945 - val_accuracy: 0.9732\n",
      "Epoch 7/25\n",
      "561/561 [==============================] - 16s 28ms/step - loss: 11.4303 - accuracy: 0.9560 - val_loss: 10.2749 - val_accuracy: 0.9672\n",
      "Epoch 8/25\n",
      "561/561 [==============================] - 16s 28ms/step - loss: 11.2169 - accuracy: 0.9625 - val_loss: 5.3145 - val_accuracy: 0.9808\n",
      "Epoch 9/25\n",
      "561/561 [==============================] - 17s 30ms/step - loss: 8.7797 - accuracy: 0.9711 - val_loss: 6.0056 - val_accuracy: 0.9833\n",
      "Epoch 10/25\n",
      "561/561 [==============================] - 17s 31ms/step - loss: 8.8479 - accuracy: 0.9742 - val_loss: 7.4816 - val_accuracy: 0.9766\n",
      "Epoch 11/25\n",
      "561/561 [==============================] - 19s 34ms/step - loss: 7.7944 - accuracy: 0.9781 - val_loss: 17.0678 - val_accuracy: 0.9554\n",
      "Epoch 12/25\n",
      "561/561 [==============================] - 20s 35ms/step - loss: 9.7708 - accuracy: 0.9765 - val_loss: 44.5981 - val_accuracy: 0.9583\n",
      "Epoch 13/25\n",
      "561/561 [==============================] - 20s 35ms/step - loss: 7.5959 - accuracy: 0.9826 - val_loss: 9.1028 - val_accuracy: 0.9846\n",
      "Epoch 14/25\n",
      "561/561 [==============================] - 20s 35ms/step - loss: 9.4570 - accuracy: 0.9812 - val_loss: 39.9350 - val_accuracy: 0.9543\n",
      "Epoch 15/25\n",
      "561/561 [==============================] - 20s 36ms/step - loss: 7.8021 - accuracy: 0.9855 - val_loss: 10.0992 - val_accuracy: 0.9877\n",
      "Epoch 16/25\n",
      "561/561 [==============================] - 19s 34ms/step - loss: 8.4804 - accuracy: 0.9871 - val_loss: 19.3677 - val_accuracy: 0.9790\n",
      "Epoch 17/25\n",
      "561/561 [==============================] - 18s 32ms/step - loss: 8.4023 - accuracy: 0.9886 - val_loss: 11.4943 - val_accuracy: 0.9891\n",
      "Epoch 18/25\n",
      "561/561 [==============================] - 18s 32ms/step - loss: 9.3246 - accuracy: 0.9891 - val_loss: 8.5014 - val_accuracy: 0.9913\n",
      "Epoch 19/25\n",
      "561/561 [==============================] - 17s 30ms/step - loss: 7.0017 - accuracy: 0.9897 - val_loss: 8.7025 - val_accuracy: 0.9900\n",
      "Epoch 20/25\n",
      "561/561 [==============================] - 17s 30ms/step - loss: 5.7838 - accuracy: 0.9921 - val_loss: 9.0379 - val_accuracy: 0.9929\n",
      "Epoch 21/25\n",
      "561/561 [==============================] - 17s 30ms/step - loss: 7.9460 - accuracy: 0.9903 - val_loss: 17.1357 - val_accuracy: 0.9884\n",
      "Epoch 22/25\n",
      "561/561 [==============================] - 17s 30ms/step - loss: 8.0302 - accuracy: 0.9920 - val_loss: 6.9776 - val_accuracy: 0.9935\n",
      "Epoch 23/25\n",
      "561/561 [==============================] - 17s 30ms/step - loss: 8.5703 - accuracy: 0.9918 - val_loss: 14.6338 - val_accuracy: 0.9918\n",
      "Epoch 24/25\n",
      "561/561 [==============================] - 17s 30ms/step - loss: 6.9128 - accuracy: 0.9931 - val_loss: 19.4075 - val_accuracy: 0.9913\n",
      "Epoch 25/25\n",
      "561/561 [==============================] - 17s 30ms/step - loss: 8.1531 - accuracy: 0.9929 - val_loss: 8.8715 - val_accuracy: 0.9951\n"
     ]
    }
   ],
   "source": [
    "big_history = big_model.fit(X_train, y_train, epochs=25, validation_data=(X_test, y_test), batch_size=32)"
   ]
  },
  {
   "cell_type": "code",
   "outputs": [],
   "source": [
    "y_true_train = np.argmax(y_train, axis=1)\n",
    "y_true_test = np.argmax(y_test, axis=1)"
   ],
   "metadata": {
    "collapsed": false,
    "ExecuteTime": {
     "end_time": "2024-01-11T10:36:55.379264Z",
     "start_time": "2024-01-11T10:36:55.375941Z"
    }
   },
   "id": "a1185a346e16e5e1",
   "execution_count": 10
  },
  {
   "cell_type": "code",
   "execution_count": 11,
   "id": "3d8d7f94cd2625c2",
   "metadata": {
    "collapsed": false,
    "ExecuteTime": {
     "end_time": "2024-01-11T10:37:08.861412Z",
     "start_time": "2024-01-11T10:37:03.843617Z"
    }
   },
   "outputs": [
    {
     "name": "stdout",
     "output_type": "stream",
     "text": [
      "561/561 [==============================] - 3s 5ms/step\n",
      "141/141 [==============================] - 1s 5ms/step\n"
     ]
    }
   ],
   "source": [
    "y_pred_train_small = small_model.predict(X_train)\n",
    "y_pred_test_small = small_model.predict(X_test)\n",
    "\n",
    "y_pred_train_classes_small = np.argmax(y_pred_train_small, axis=1)\n",
    "y_pred_test_classes_small = np.argmax(y_pred_test_small, axis=1)"
   ]
  },
  {
   "cell_type": "code",
   "execution_count": 32,
   "id": "c80d82a72ff0c10c",
   "metadata": {
    "collapsed": false,
    "ExecuteTime": {
     "end_time": "2024-01-11T10:48:34.005873Z",
     "start_time": "2024-01-11T10:48:33.989075Z"
    }
   },
   "outputs": [
    {
     "name": "stdout",
     "output_type": "stream",
     "text": [
      "              precision    recall  f1-score   support\n",
      "\n",
      "           0     0.9964    0.9964    0.9964       552\n",
      "           1     1.0000    1.0000    1.0000       451\n",
      "           2     0.9977    1.0000    0.9988       427\n",
      "           3     0.9957    0.9978    0.9968       462\n",
      "           4     0.9913    0.9978    0.9945       455\n",
      "           5     1.0000    0.9913    0.9956       458\n",
      "           6     1.0000    1.0000    1.0000       478\n",
      "           7     1.0000    0.9972    0.9986       356\n",
      "           8     0.9924    0.9899    0.9912       396\n",
      "           9     0.9911    0.9933    0.9922       450\n",
      "\n",
      "    accuracy                         0.9964      4485\n",
      "   macro avg     0.9965    0.9964    0.9964      4485\n",
      "weighted avg     0.9964    0.9964    0.9964      4485\n"
     ]
    }
   ],
   "source": [
    "print(classification_report(y_true_test, y_pred_test_classes_small, digits=4))"
   ]
  },
  {
   "cell_type": "code",
   "outputs": [
    {
     "name": "stdout",
     "output_type": "stream",
     "text": [
      "561/561 [==============================] - 6s 9ms/step\n",
      "141/141 [==============================] - 1s 9ms/step\n"
     ]
    }
   ],
   "source": [
    "y_pred_train_big = big_model.predict(X_train)\n",
    "y_pred_test_big = big_model.predict(X_test)\n",
    "\n",
    "y_pred_train_classes_big = np.argmax(y_pred_train_big, axis=1)\n",
    "y_pred_test_classes_big = np.argmax(y_pred_test_big, axis=1)"
   ],
   "metadata": {
    "collapsed": false,
    "ExecuteTime": {
     "end_time": "2024-01-11T10:49:41.823322Z",
     "start_time": "2024-01-11T10:49:33.505473Z"
    }
   },
   "id": "d4511f4d2604afa1",
   "execution_count": 35
  },
  {
   "cell_type": "code",
   "execution_count": 36,
   "id": "317145d16bdc2d1c",
   "metadata": {
    "collapsed": false,
    "ExecuteTime": {
     "end_time": "2024-01-11T10:49:42.548547Z",
     "start_time": "2024-01-11T10:49:42.537307Z"
    }
   },
   "outputs": [
    {
     "name": "stdout",
     "output_type": "stream",
     "text": [
      "              precision    recall  f1-score   support\n",
      "\n",
      "           0     0.9927    0.9909    0.9918       552\n",
      "           1     0.9956    1.0000    0.9978       451\n",
      "           2     1.0000    1.0000    1.0000       427\n",
      "           3     0.9893    1.0000    0.9946       462\n",
      "           4     0.9978    0.9978    0.9978       455\n",
      "           5     0.9913    0.9913    0.9913       458\n",
      "           6     0.9979    0.9979    0.9979       478\n",
      "           7     1.0000    0.9944    0.9972       356\n",
      "           8     0.9949    0.9848    0.9898       396\n",
      "           9     0.9933    0.9933    0.9933       450\n",
      "\n",
      "    accuracy                         0.9951      4485\n",
      "   macro avg     0.9953    0.9950    0.9952      4485\n",
      "weighted avg     0.9951    0.9951    0.9951      4485\n"
     ]
    }
   ],
   "source": [
    "print(classification_report(y_true_test, y_pred_test_classes_big, digits=4))"
   ]
  },
  {
   "cell_type": "code",
   "execution_count": 25,
   "id": "2c7102d796939f84",
   "metadata": {
    "collapsed": false,
    "ExecuteTime": {
     "end_time": "2024-01-11T10:39:49.157983Z",
     "start_time": "2024-01-11T10:39:48.880612Z"
    }
   },
   "outputs": [
    {
     "data": {
      "text/plain": "<Figure size 1200x600 with 2 Axes>",
      "image/png": "[encoded data removed]"
     },
     "metadata": {},
     "output_type": "display_data"
    }
   ],
   "source": [
    "plt.figure(figsize=(12, 6))\n",
    "\n",
    "plt.subplot(1, 2, 1)\n",
    "plt.plot(history.history['accuracy'])\n",
    "plt.plot(history.history['val_accuracy'])\n",
    "plt.title('Model Accuracy')\n",
    "plt.ylabel('Accuracy')\n",
    "plt.xlabel('Epoch')\n",
    "plt.legend(['Train', 'Test'], loc='upper left')\n",
    "\n",
    "plt.subplot(1, 2, 2)\n",
    "plt.plot(history.history['loss'])\n",
    "plt.plot(history.history['val_loss'])\n",
    "plt.title('Model Loss')\n",
    "plt.ylabel('Loss')\n",
    "plt.xlabel('Epoch')\n",
    "plt.legend(['Train', 'Test'], loc='upper left')\n",
    "\n",
    "plt.tight_layout()\n",
    "plt.show()\n"
   ]
  },
  {
   "cell_type": "code",
   "execution_count": 37,
   "id": "116f832f3517f3ef",
   "metadata": {
    "collapsed": false,
    "ExecuteTime": {
     "end_time": "2024-01-11T10:52:04.432842Z",
     "start_time": "2024-01-11T10:52:04.273040Z"
    }
   },
   "outputs": [
    {
     "data": {
      "text/plain": "<Figure size 1200x600 with 2 Axes>",
      "image/png": "[encoded data removed]"
     },
     "metadata": {},
     "output_type": "display_data"
    }
   ],
   "source": [
    "plt.figure(figsize=(12, 6))\n",
    "\n",
    "plt.subplot(1, 2, 1)\n",
    "plt.plot(big_history.history['accuracy'])\n",
    "plt.plot(big_history.history['val_accuracy'])\n",
    "plt.title('Model Accuracy')\n",
    "plt.ylabel('Accuracy')\n",
    "plt.xlabel('Epoch')\n",
    "plt.legend(['Train', 'Test'], loc='upper left')\n",
    "\n",
    "plt.subplot(1, 2, 2)\n",
    "plt.plot(big_history.history['loss'])\n",
    "plt.plot(big_history.history['val_loss'])\n",
    "plt.title('Model Loss')\n",
    "plt.ylabel('Loss')\n",
    "plt.xlabel('Epoch')\n",
    "plt.legend(['Train', 'Test'], loc='upper left')\n",
    "\n",
    "plt.tight_layout()\n",
    "plt.show()"
   ]
  },
  {
   "cell_type": "code",
   "execution_count": 15,
   "id": "ed6306a5d31b5d2f",
   "metadata": {
    "collapsed": false,
    "ExecuteTime": {
     "end_time": "2024-01-11T10:38:23.695159Z",
     "start_time": "2024-01-11T10:38:23.683417Z"
    }
   },
   "outputs": [],
   "source": [
    "from time import perf_counter"
   ]
  },
  {
   "cell_type": "code",
   "execution_count": 16,
   "id": "acb83204-615a-42df-97c9-b5728167e589",
   "metadata": {
    "ExecuteTime": {
     "end_time": "2024-01-11T10:38:26.229942Z",
     "start_time": "2024-01-11T10:38:24.507096Z"
    }
   },
   "outputs": [
    {
     "name": "stdout",
     "output_type": "stream",
     "text": [
      "141/141 [==============================] - 2s 11ms/step - loss: 0.0148 - accuracy: 0.9964\n",
      "test inference: 1.72\n"
     ]
    }
   ],
   "source": [
    "start = perf_counter()\n",
    "test_loss, test_accuracy = small_model.evaluate(X_test, y_test)\n",
    "print(f'test inference: {perf_counter() - start:.2f}')"
   ]
  },
  {
   "cell_type": "code",
   "outputs": [
    {
     "name": "stdout",
     "output_type": "stream",
     "text": [
      "141/141 [==============================] - 2s 13ms/step - loss: 8.8715 - accuracy: 0.9951\n",
      "test inference: 2.06\n"
     ]
    }
   ],
   "source": [
    "start = perf_counter()\n",
    "test_loss, test_accuracy = big_model.evaluate(X_test, y_test)\n",
    "print(f'test inference: {perf_counter() - start:.2f}')"
   ],
   "metadata": {
    "collapsed": false,
    "ExecuteTime": {
     "end_time": "2024-01-11T10:52:34.718027Z",
     "start_time": "2024-01-11T10:52:32.649183Z"
    }
   },
   "id": "5b7ca373e815f47e",
   "execution_count": 38
  },
  {
   "cell_type": "code",
   "execution_count": 21,
   "id": "9c3aa282ccf54a31",
   "metadata": {
    "collapsed": false,
    "ExecuteTime": {
     "end_time": "2024-01-11T10:39:10.029140Z",
     "start_time": "2024-01-11T10:39:10.020099Z"
    }
   },
   "outputs": [],
   "source": [
    "def get_grad_cam_heatmap(img_array, model, last_conv_layer_name, pred_index=None):\n",
    "    grad_model = tf.keras.models.Model(\n",
    "        [model.inputs], [model.get_layer(last_conv_layer_name).output, model.output]\n",
    "    )\n",
    "\n",
    "    with tf.GradientTape() as tape:\n",
    "        last_conv_layer_output, preds = grad_model(img_array)\n",
    "        if pred_index is None:\n",
    "            pred_index = tf.argmax(preds[0])\n",
    "        class_channel = preds[:, pred_index]\n",
    "\n",
    "    grads = tape.gradient(class_channel, last_conv_layer_output)\n",
    "\n",
    "    pooled_grads = tf.reduce_mean(grads, axis=(0, 1, 2))\n",
    "\n",
    "    last_conv_layer_output = last_conv_layer_output[0]\n",
    "    heatmap = last_conv_layer_output @ pooled_grads[..., tf.newaxis]\n",
    "    heatmap = tf.squeeze(heatmap)\n",
    "\n",
    "    heatmap = tf.maximum(heatmap, 0) / tf.math.reduce_max(heatmap)\n",
    "    return heatmap.numpy()"
   ]
  },
  {
   "cell_type": "code",
   "execution_count": 22,
   "id": "ab530db5dd741307",
   "metadata": {
    "collapsed": false,
    "ExecuteTime": {
     "end_time": "2024-01-11T10:39:13.273757Z",
     "start_time": "2024-01-11T10:39:10.946707Z"
    }
   },
   "outputs": [],
   "source": [
    "last_conv_layer_name = 'conv2d'\n",
    "img_array = np.expand_dims(X_test[0], axis=0)\n",
    "heatmap = get_grad_cam_heatmap(img_array, small_model, last_conv_layer_name)"
   ]
  },
  {
   "cell_type": "code",
   "execution_count": 26,
   "id": "ed55e20775e00d6f",
   "metadata": {
    "collapsed": false,
    "ExecuteTime": {
     "end_time": "2024-01-11T10:39:53.321992Z",
     "start_time": "2024-01-11T10:39:53.248629Z"
    }
   },
   "outputs": [
    {
     "data": {
      "text/plain": "<matplotlib.image.AxesImage at 0x2cec01b90>"
     },
     "execution_count": 26,
     "metadata": {},
     "output_type": "execute_result"
    },
    {
     "data": {
      "text/plain": "<Figure size 640x480 with 1 Axes>",
      "image/png": "[encoded data removed]"
     },
     "metadata": {},
     "output_type": "display_data"
    }
   ],
   "source": [
    "plt.imshow(heatmap)"
   ]
  },
  {
   "cell_type": "code",
   "execution_count": 27,
   "id": "7e475c0d0cb5dba0",
   "metadata": {
    "collapsed": false,
    "ExecuteTime": {
     "end_time": "2024-01-11T10:40:32.051647Z",
     "start_time": "2024-01-11T10:40:32.018724Z"
    }
   },
   "outputs": [
    {
     "name": "stdout",
     "output_type": "stream",
     "text": [
      "0 w (3, 3, 3, 32)\n",
      "0 b (32,)\n",
      "3 w (96800, 10)\n",
      "3 b (10,)\n"
     ]
    }
   ],
   "source": [
    "for i, layer in enumerate(small_model.layers):\n",
    "    if len(layer.get_weights()) > 0:        \n",
    "        print(i, 'w', layer.get_weights()[0].shape)\n",
    "        print(i, 'b', layer.get_weights()[1].shape)"
   ]
  },
  {
   "cell_type": "code",
   "execution_count": 28,
   "id": "983f72cd-2b65-4925-bc0a-106abe71ad30",
   "metadata": {
    "ExecuteTime": {
     "end_time": "2024-01-11T10:40:38.021036Z",
     "start_time": "2024-01-11T10:40:37.894071Z"
    }
   },
   "outputs": [],
   "source": [
    "np.savez_compressed(\n",
    "    'SFDDD_model.npz',\n",
    "    conv_weights = small_model.layers[0].get_weights()[0],\n",
    "    conv_biases = small_model.layers[0].get_weights()[1],\n",
    "    dense_weights = small_model.layers[3].get_weights()[0],\n",
    "    dense_biases = small_model.layers[3].get_weights()[1],\n",
    ")"
   ]
  }
 ],
 "metadata": {
  "kernelspec": {
   "display_name": "Python 3 (ipykernel)",
   "language": "python",
   "name": "python3"
  },
  "language_info": {
   "codemirror_mode": {
    "name": "ipython",
    "version": 3
   },
   "file_extension": ".py",
   "mimetype": "text/x-python",
   "name": "python",
   "nbconvert_exporter": "python",
   "pygments_lexer": "ipython3",
   "version": "3.11.6"
  }
 },
 "nbformat": 4,
 "nbformat_minor": 5
}
